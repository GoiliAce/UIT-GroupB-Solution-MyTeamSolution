{
 "cells": [
  {
   "cell_type": "code",
   "execution_count": 1,
   "metadata": {},
   "outputs": [],
   "source": [
    "import numpy as np\n",
    "import pandas as pd\n",
    "import matplotlib.pyplot as plt\n",
    "\n",
    "import json\n",
    "from underthesea import word_tokenize\n",
    "\n",
    "\n",
    "import torch\n",
    "from torch import nn\n",
    "from torch.utils.data import Dataset, DataLoader\n",
    "device = \"cuda\" if torch.cuda.is_available() else \"cpu\"\n",
    "\n",
    "from sklearn.feature_extraction.text import TfidfVectorizer\n",
    "from sklearn.feature_extraction.text import CountVectorizer\n",
    "from sklearn.metrics.pairwise import cosine_similarity\n",
    "\n",
    "\n",
    "import re\n",
    "\n",
    "import transformers\n",
    "from transformers import AutoTokenizer\n",
    "\n",
    "from tqdm.notebook import tqdm\n",
    "from concurrent.futures import ThreadPoolExecutor\n",
    "from rank_bm25 import BM25Okapi\n"
   ]
  },
  {
   "cell_type": "code",
   "execution_count": 24,
   "metadata": {},
   "outputs": [],
   "source": [
    "df = pd.read_json('/media/bbsw/Data1/Hung-ws/lazy/v2/uit-bangb/ise-dsc01-train.json').transpose()\n",
    "df = df.reset_index(drop=True)"
   ]
  },
  {
   "cell_type": "code",
   "execution_count": 25,
   "metadata": {},
   "outputs": [],
   "source": [
    "columns = ['context', 'claim', 'verdict', 'evidence']\n",
    "df = df[columns]"
   ]
  },
  {
   "cell_type": "code",
   "execution_count": 26,
   "metadata": {},
   "outputs": [
    {
     "name": "stdout",
     "output_type": "stream",
     "text": [
      "<class 'pandas.core.frame.DataFrame'>\n",
      "RangeIndex: 37967 entries, 0 to 37966\n",
      "Data columns (total 4 columns):\n",
      " #   Column    Non-Null Count  Dtype \n",
      "---  ------    --------------  ----- \n",
      " 0   context   37967 non-null  object\n",
      " 1   claim     37967 non-null  object\n",
      " 2   verdict   37967 non-null  object\n",
      " 3   evidence  25384 non-null  object\n",
      "dtypes: object(4)\n",
      "memory usage: 1.2+ MB\n"
     ]
    }
   ],
   "source": [
    "df.info()"
   ]
  },
  {
   "cell_type": "code",
   "execution_count": 27,
   "metadata": {},
   "outputs": [],
   "source": [
    "df_evident = df[df['evidence'].notna()]\n",
    "df_evident = df_evident.reset_index(drop=True)"
   ]
  },
  {
   "cell_type": "code",
   "execution_count": 28,
   "metadata": {},
   "outputs": [],
   "source": [
    "def handleProcess(context, evident):\n",
    "    def check_igit(sen):\n",
    "        igory = ['-', 'com/vocomabelledn\\n\\nĐình Sơn']\n",
    "        for ig in igory:\n",
    "            if ig in sen: return True\n",
    "        return False\n",
    "    evident_process = evident.lower().split(\"\\n\\n\")[-1]\n",
    "    context_process = context.lower().split(\"\\n\\n\")[-1]\n",
    "    if len(evident_process.split())<2 and len(evident)<13:\n",
    "        return False\n",
    "    if evident_process==context_process:\n",
    "        if len(evident_process.split())<20:\n",
    "            return False\n",
    "        if len(evident)<100:\n",
    "            return False\n",
    "    return True\n",
    "df_evident_process = df_evident[df_evident.apply(lambda x: handleProcess(x['context'], x['evidence']), axis=1)]\n",
    "df = df[df.apply(lambda x: x['verdict']=='NEI' or handleProcess(x['context'], x['evidence']), axis=1)]"
   ]
  },
  {
   "cell_type": "code",
   "execution_count": 29,
   "metadata": {},
   "outputs": [
    {
     "data": {
      "text/plain": [
       "(37571, 4)"
      ]
     },
     "execution_count": 29,
     "metadata": {},
     "output_type": "execute_result"
    }
   ],
   "source": [
    "df.shape"
   ]
  },
  {
   "cell_type": "code",
   "execution_count": 30,
   "metadata": {},
   "outputs": [],
   "source": [
    "df['context'] = df['context'].apply(lambda x: x.lower())\n",
    "df['claim'] = df['claim'].apply(lambda x: x.lower())"
   ]
  },
  {
   "cell_type": "code",
   "execution_count": 32,
   "metadata": {},
   "outputs": [
    {
     "data": {
      "text/html": [
       "<div>\n",
       "<style scoped>\n",
       "    .dataframe tbody tr th:only-of-type {\n",
       "        vertical-align: middle;\n",
       "    }\n",
       "\n",
       "    .dataframe tbody tr th {\n",
       "        vertical-align: top;\n",
       "    }\n",
       "\n",
       "    .dataframe thead th {\n",
       "        text-align: right;\n",
       "    }\n",
       "</style>\n",
       "<table border=\"1\" class=\"dataframe\">\n",
       "  <thead>\n",
       "    <tr style=\"text-align: right;\">\n",
       "      <th></th>\n",
       "      <th>context</th>\n",
       "      <th>claim</th>\n",
       "      <th>verdict</th>\n",
       "      <th>evidence</th>\n",
       "    </tr>\n",
       "  </thead>\n",
       "  <tbody>\n",
       "    <tr>\n",
       "      <th>0</th>\n",
       "      <td>phát biểu tại lễ ký kết vào ngày 17/11, giám đ...</td>\n",
       "      <td>ngoài việc không giới hạn mức lương, công ty c...</td>\n",
       "      <td>SUPPORTED</td>\n",
       "      <td>Công ty cũng có chế độ đãi ngộ tốt, có lương t...</td>\n",
       "    </tr>\n",
       "    <tr>\n",
       "      <th>1</th>\n",
       "      <td>phát biểu tại lễ ký kết vào ngày 17/11, giám đ...</td>\n",
       "      <td>thành lập năm 2016, phát triển phần mềm, tổ ch...</td>\n",
       "      <td>SUPPORTED</td>\n",
       "      <td>FABA Technology thành lập năm 2016, chuyên cun...</td>\n",
       "    </tr>\n",
       "    <tr>\n",
       "      <th>2</th>\n",
       "      <td>phát biểu tại lễ ký kết vào ngày 17/11, giám đ...</td>\n",
       "      <td>nhằm phát triển đội ngũ, faba thường tổ chức n...</td>\n",
       "      <td>SUPPORTED</td>\n",
       "      <td>Bên cạnh đó, FABA thường xuyên tổ chức những d...</td>\n",
       "    </tr>\n",
       "    <tr>\n",
       "      <th>3</th>\n",
       "      <td>đối với các nhà khoa học, trí thức, điều kiện ...</td>\n",
       "      <td>sở dĩ vị trí kỹ sư phần mềm có mức lương cao n...</td>\n",
       "      <td>SUPPORTED</td>\n",
       "      <td>Theo Adeco Việt Nam, mức lương cao nhất đối vớ...</td>\n",
       "    </tr>\n",
       "    <tr>\n",
       "      <th>4</th>\n",
       "      <td>đối với các nhà khoa học, trí thức, điều kiện ...</td>\n",
       "      <td>theo adeco việt nam, mức lương cao nhất đối vớ...</td>\n",
       "      <td>SUPPORTED</td>\n",
       "      <td>Trong khi đó, theo báo cáo \"Thị trường nhân lự...</td>\n",
       "    </tr>\n",
       "  </tbody>\n",
       "</table>\n",
       "</div>"
      ],
      "text/plain": [
       "                                             context  \\\n",
       "0  phát biểu tại lễ ký kết vào ngày 17/11, giám đ...   \n",
       "1  phát biểu tại lễ ký kết vào ngày 17/11, giám đ...   \n",
       "2  phát biểu tại lễ ký kết vào ngày 17/11, giám đ...   \n",
       "3  đối với các nhà khoa học, trí thức, điều kiện ...   \n",
       "4  đối với các nhà khoa học, trí thức, điều kiện ...   \n",
       "\n",
       "                                               claim    verdict  \\\n",
       "0  ngoài việc không giới hạn mức lương, công ty c...  SUPPORTED   \n",
       "1  thành lập năm 2016, phát triển phần mềm, tổ ch...  SUPPORTED   \n",
       "2  nhằm phát triển đội ngũ, faba thường tổ chức n...  SUPPORTED   \n",
       "3  sở dĩ vị trí kỹ sư phần mềm có mức lương cao n...  SUPPORTED   \n",
       "4  theo adeco việt nam, mức lương cao nhất đối vớ...  SUPPORTED   \n",
       "\n",
       "                                            evidence  \n",
       "0  Công ty cũng có chế độ đãi ngộ tốt, có lương t...  \n",
       "1  FABA Technology thành lập năm 2016, chuyên cun...  \n",
       "2  Bên cạnh đó, FABA thường xuyên tổ chức những d...  \n",
       "3  Theo Adeco Việt Nam, mức lương cao nhất đối vớ...  \n",
       "4  Trong khi đó, theo báo cáo \"Thị trường nhân lự...  "
      ]
     },
     "execution_count": 32,
     "metadata": {},
     "output_type": "execute_result"
    }
   ],
   "source": [
    "df.head()"
   ]
  },
  {
   "cell_type": "code",
   "execution_count": 33,
   "metadata": {},
   "outputs": [
    {
     "data": {
      "application/vnd.jupyter.widget-view+json": {
       "model_id": "c056694ae561474787b1e84d67947d33",
       "version_major": 2,
       "version_minor": 0
      },
      "text/plain": [
       "  0%|          | 0/75142 [00:00<?, ?it/s]"
      ]
     },
     "metadata": {},
     "output_type": "display_data"
    }
   ],
   "source": [
    "df = df.reset_index(drop=True)\n",
    "processbar = tqdm(total=len(df)*2)\n",
    "def tokenizer(text):\n",
    "    global processbar\n",
    "    processbar.update(1)\n",
    "    return word_tokenize(text, format='text')\n",
    "\n",
    "df['context_tokenizer'] = df['context'].apply(tokenizer)\n",
    "df['claim_tokenizer'] = df['claim'].apply(tokenizer)\n",
    "processbar.close()\n"
   ]
  },
  {
   "cell_type": "code",
   "execution_count": 34,
   "metadata": {},
   "outputs": [
    {
     "data": {
      "text/plain": [
       "(37571, 6)"
      ]
     },
     "execution_count": 34,
     "metadata": {},
     "output_type": "execute_result"
    }
   ],
   "source": [
    "df.shape"
   ]
  },
  {
   "cell_type": "code",
   "execution_count": 35,
   "metadata": {},
   "outputs": [
    {
     "data": {
      "text/html": [
       "<div>\n",
       "<style scoped>\n",
       "    .dataframe tbody tr th:only-of-type {\n",
       "        vertical-align: middle;\n",
       "    }\n",
       "\n",
       "    .dataframe tbody tr th {\n",
       "        vertical-align: top;\n",
       "    }\n",
       "\n",
       "    .dataframe thead th {\n",
       "        text-align: right;\n",
       "    }\n",
       "</style>\n",
       "<table border=\"1\" class=\"dataframe\">\n",
       "  <thead>\n",
       "    <tr style=\"text-align: right;\">\n",
       "      <th></th>\n",
       "      <th>context</th>\n",
       "      <th>claim</th>\n",
       "      <th>verdict</th>\n",
       "      <th>evidence</th>\n",
       "      <th>context_tokenizer</th>\n",
       "      <th>claim_tokenizer</th>\n",
       "    </tr>\n",
       "  </thead>\n",
       "  <tbody>\n",
       "    <tr>\n",
       "      <th>0</th>\n",
       "      <td>phát biểu tại lễ ký kết vào ngày 17/11, giám đ...</td>\n",
       "      <td>ngoài việc không giới hạn mức lương, công ty c...</td>\n",
       "      <td>SUPPORTED</td>\n",
       "      <td>Công ty cũng có chế độ đãi ngộ tốt, có lương t...</td>\n",
       "      <td>phát_biểu tại lễ ký_kết vào ngày 17/11 , giám_...</td>\n",
       "      <td>ngoài việc không giới_hạn_mức lương , công_ty ...</td>\n",
       "    </tr>\n",
       "    <tr>\n",
       "      <th>1</th>\n",
       "      <td>phát biểu tại lễ ký kết vào ngày 17/11, giám đ...</td>\n",
       "      <td>thành lập năm 2016, phát triển phần mềm, tổ ch...</td>\n",
       "      <td>SUPPORTED</td>\n",
       "      <td>FABA Technology thành lập năm 2016, chuyên cun...</td>\n",
       "      <td>phát_biểu tại lễ ký_kết vào ngày 17/11 , giám_...</td>\n",
       "      <td>thành_lập năm 2016 , phát_triển phần_mềm , tổ_...</td>\n",
       "    </tr>\n",
       "    <tr>\n",
       "      <th>2</th>\n",
       "      <td>phát biểu tại lễ ký kết vào ngày 17/11, giám đ...</td>\n",
       "      <td>nhằm phát triển đội ngũ, faba thường tổ chức n...</td>\n",
       "      <td>SUPPORTED</td>\n",
       "      <td>Bên cạnh đó, FABA thường xuyên tổ chức những d...</td>\n",
       "      <td>phát_biểu tại lễ ký_kết vào ngày 17/11 , giám_...</td>\n",
       "      <td>nhằm phát_triển đội_ngũ , faba thường tổ_chức ...</td>\n",
       "    </tr>\n",
       "    <tr>\n",
       "      <th>3</th>\n",
       "      <td>đối với các nhà khoa học, trí thức, điều kiện ...</td>\n",
       "      <td>sở dĩ vị trí kỹ sư phần mềm có mức lương cao n...</td>\n",
       "      <td>SUPPORTED</td>\n",
       "      <td>Theo Adeco Việt Nam, mức lương cao nhất đối vớ...</td>\n",
       "      <td>đối_với các nhà_khoa_học , trí_thức , điều_kiệ...</td>\n",
       "      <td>sở_dĩ vị_trí kỹ_sư phần_mềm có mức lương cao n...</td>\n",
       "    </tr>\n",
       "    <tr>\n",
       "      <th>4</th>\n",
       "      <td>đối với các nhà khoa học, trí thức, điều kiện ...</td>\n",
       "      <td>theo adeco việt nam, mức lương cao nhất đối vớ...</td>\n",
       "      <td>SUPPORTED</td>\n",
       "      <td>Trong khi đó, theo báo cáo \"Thị trường nhân lự...</td>\n",
       "      <td>đối_với các nhà_khoa_học , trí_thức , điều_kiệ...</td>\n",
       "      <td>theo adeco việt_nam , mức lương cao nhất đối_v...</td>\n",
       "    </tr>\n",
       "    <tr>\n",
       "      <th>...</th>\n",
       "      <td>...</td>\n",
       "      <td>...</td>\n",
       "      <td>...</td>\n",
       "      <td>...</td>\n",
       "      <td>...</td>\n",
       "      <td>...</td>\n",
       "    </tr>\n",
       "    <tr>\n",
       "      <th>37566</th>\n",
       "      <td>\"tôi cảm nhận mình đang sống, đang tự do\", bia...</td>\n",
       "      <td>thái lan không dự kiến đón ít nhất 5 triệu khá...</td>\n",
       "      <td>REFUTED</td>\n",
       "      <td>Thái Lan dự kiến đón ít nhất 5 triệu khách Tru...</td>\n",
       "      <td>\" tôi cảm_nhận mình đang sống , đang tự_do \" ,...</td>\n",
       "      <td>thái_lan không dự_kiến đón ít_nhất 5 triệu khá...</td>\n",
       "    </tr>\n",
       "    <tr>\n",
       "      <th>37567</th>\n",
       "      <td>\"tôi cảm nhận mình đang sống, đang tự do\", bia...</td>\n",
       "      <td>trước đại dịch, người trung quốc chiếm gần 1/2...</td>\n",
       "      <td>REFUTED</td>\n",
       "      <td>Trước đại dịch, người Trung Quốc chiếm gần 1/3...</td>\n",
       "      <td>\" tôi cảm_nhận mình đang sống , đang tự_do \" ,...</td>\n",
       "      <td>trước đại_dịch , người trung_quốc chiếm gần 1/...</td>\n",
       "    </tr>\n",
       "    <tr>\n",
       "      <th>37568</th>\n",
       "      <td>\"tôi cảm nhận mình đang sống, đang tự do\", bia...</td>\n",
       "      <td>zhu nói rằng số tiền 290.000 usd không thể mua...</td>\n",
       "      <td>REFUTED</td>\n",
       "      <td>\"Số tiền đó chỉ có thể mua được căn hộ nhỏ ở v...</td>\n",
       "      <td>\" tôi cảm_nhận mình đang sống , đang tự_do \" ,...</td>\n",
       "      <td>zhu nói rằng số tiền 290.000 usd không_thể mua...</td>\n",
       "    </tr>\n",
       "    <tr>\n",
       "      <th>37569</th>\n",
       "      <td>\"tôi không có đầu óc đầu tư chứng khoán và đan...</td>\n",
       "      <td>tiền tiết kiệm của các hộ gia đình giảm 9,9 ng...</td>\n",
       "      <td>REFUTED</td>\n",
       "      <td>Tiền tiết kiệm của các hộ gia đình tăng 9,9 ng...</td>\n",
       "      <td>\" tôi không có đầu_óc đầu_tư chứng_khoán và đa...</td>\n",
       "      <td>tiền tiết_kiệm của các hộ gia_đình giảm 9,9_ng...</td>\n",
       "    </tr>\n",
       "    <tr>\n",
       "      <th>37570</th>\n",
       "      <td>\"tôi không có đầu óc đầu tư chứng khoán và đan...</td>\n",
       "      <td>zhu cho hay cô chưa tham gia vào nhiều cuộc đấ...</td>\n",
       "      <td>REFUTED</td>\n",
       "      <td>Cô cho hay đã tham gia vào nhiều cuộc đấu giá ...</td>\n",
       "      <td>\" tôi không có đầu_óc đầu_tư chứng_khoán và đa...</td>\n",
       "      <td>zhu cho_hay cô chưa tham_gia vào nhiều cuộc đấ...</td>\n",
       "    </tr>\n",
       "  </tbody>\n",
       "</table>\n",
       "<p>37571 rows × 6 columns</p>\n",
       "</div>"
      ],
      "text/plain": [
       "                                                 context  \\\n",
       "0      phát biểu tại lễ ký kết vào ngày 17/11, giám đ...   \n",
       "1      phát biểu tại lễ ký kết vào ngày 17/11, giám đ...   \n",
       "2      phát biểu tại lễ ký kết vào ngày 17/11, giám đ...   \n",
       "3      đối với các nhà khoa học, trí thức, điều kiện ...   \n",
       "4      đối với các nhà khoa học, trí thức, điều kiện ...   \n",
       "...                                                  ...   \n",
       "37566  \"tôi cảm nhận mình đang sống, đang tự do\", bia...   \n",
       "37567  \"tôi cảm nhận mình đang sống, đang tự do\", bia...   \n",
       "37568  \"tôi cảm nhận mình đang sống, đang tự do\", bia...   \n",
       "37569  \"tôi không có đầu óc đầu tư chứng khoán và đan...   \n",
       "37570  \"tôi không có đầu óc đầu tư chứng khoán và đan...   \n",
       "\n",
       "                                                   claim    verdict  \\\n",
       "0      ngoài việc không giới hạn mức lương, công ty c...  SUPPORTED   \n",
       "1      thành lập năm 2016, phát triển phần mềm, tổ ch...  SUPPORTED   \n",
       "2      nhằm phát triển đội ngũ, faba thường tổ chức n...  SUPPORTED   \n",
       "3      sở dĩ vị trí kỹ sư phần mềm có mức lương cao n...  SUPPORTED   \n",
       "4      theo adeco việt nam, mức lương cao nhất đối vớ...  SUPPORTED   \n",
       "...                                                  ...        ...   \n",
       "37566  thái lan không dự kiến đón ít nhất 5 triệu khá...    REFUTED   \n",
       "37567  trước đại dịch, người trung quốc chiếm gần 1/2...    REFUTED   \n",
       "37568  zhu nói rằng số tiền 290.000 usd không thể mua...    REFUTED   \n",
       "37569  tiền tiết kiệm của các hộ gia đình giảm 9,9 ng...    REFUTED   \n",
       "37570  zhu cho hay cô chưa tham gia vào nhiều cuộc đấ...    REFUTED   \n",
       "\n",
       "                                                evidence  \\\n",
       "0      Công ty cũng có chế độ đãi ngộ tốt, có lương t...   \n",
       "1      FABA Technology thành lập năm 2016, chuyên cun...   \n",
       "2      Bên cạnh đó, FABA thường xuyên tổ chức những d...   \n",
       "3      Theo Adeco Việt Nam, mức lương cao nhất đối vớ...   \n",
       "4      Trong khi đó, theo báo cáo \"Thị trường nhân lự...   \n",
       "...                                                  ...   \n",
       "37566  Thái Lan dự kiến đón ít nhất 5 triệu khách Tru...   \n",
       "37567  Trước đại dịch, người Trung Quốc chiếm gần 1/3...   \n",
       "37568  \"Số tiền đó chỉ có thể mua được căn hộ nhỏ ở v...   \n",
       "37569  Tiền tiết kiệm của các hộ gia đình tăng 9,9 ng...   \n",
       "37570  Cô cho hay đã tham gia vào nhiều cuộc đấu giá ...   \n",
       "\n",
       "                                       context_tokenizer  \\\n",
       "0      phát_biểu tại lễ ký_kết vào ngày 17/11 , giám_...   \n",
       "1      phát_biểu tại lễ ký_kết vào ngày 17/11 , giám_...   \n",
       "2      phát_biểu tại lễ ký_kết vào ngày 17/11 , giám_...   \n",
       "3      đối_với các nhà_khoa_học , trí_thức , điều_kiệ...   \n",
       "4      đối_với các nhà_khoa_học , trí_thức , điều_kiệ...   \n",
       "...                                                  ...   \n",
       "37566  \" tôi cảm_nhận mình đang sống , đang tự_do \" ,...   \n",
       "37567  \" tôi cảm_nhận mình đang sống , đang tự_do \" ,...   \n",
       "37568  \" tôi cảm_nhận mình đang sống , đang tự_do \" ,...   \n",
       "37569  \" tôi không có đầu_óc đầu_tư chứng_khoán và đa...   \n",
       "37570  \" tôi không có đầu_óc đầu_tư chứng_khoán và đa...   \n",
       "\n",
       "                                         claim_tokenizer  \n",
       "0      ngoài việc không giới_hạn_mức lương , công_ty ...  \n",
       "1      thành_lập năm 2016 , phát_triển phần_mềm , tổ_...  \n",
       "2      nhằm phát_triển đội_ngũ , faba thường tổ_chức ...  \n",
       "3      sở_dĩ vị_trí kỹ_sư phần_mềm có mức lương cao n...  \n",
       "4      theo adeco việt_nam , mức lương cao nhất đối_v...  \n",
       "...                                                  ...  \n",
       "37566  thái_lan không dự_kiến đón ít_nhất 5 triệu khá...  \n",
       "37567  trước đại_dịch , người trung_quốc chiếm gần 1/...  \n",
       "37568  zhu nói rằng số tiền 290.000 usd không_thể mua...  \n",
       "37569  tiền tiết_kiệm của các hộ gia_đình giảm 9,9_ng...  \n",
       "37570  zhu cho_hay cô chưa tham_gia vào nhiều cuộc đấ...  \n",
       "\n",
       "[37571 rows x 6 columns]"
      ]
     },
     "execution_count": 35,
     "metadata": {},
     "output_type": "execute_result"
    }
   ],
   "source": [
    "df"
   ]
  },
  {
   "cell_type": "code",
   "execution_count": 38,
   "metadata": {},
   "outputs": [],
   "source": [
    "df.to_csv('data/train_v2.csv', index=False, escapechar='\\\\')"
   ]
  },
  {
   "cell_type": "code",
   "execution_count": null,
   "metadata": {},
   "outputs": [],
   "source": [
    "df.to_json('process.json', orient='records', force_ascii=False, indent=4)"
   ]
  },
  {
   "cell_type": "code",
   "execution_count": null,
   "metadata": {},
   "outputs": [],
   "source": [
    "def find_context(context):\n",
    "    # Tìm tất cả các số thập phân trong context\n",
    "    decimal_numbers = re.findall(r'\\b\\d+\\.\\d+\\b', context)\n",
    "    return len(decimal_numbers) > 0"
   ]
  },
  {
   "cell_type": "code",
   "execution_count": null,
   "metadata": {},
   "outputs": [],
   "source": [
    "def split_context(context):\n",
    "    docs = re.split(r'(?<!\\d)\\.\\s*(?![.])', context)\n",
    "    docs = [doc for doc in docs if doc]\n",
    "    docs = '\\n\\n'.join(docs)\n",
    "    return docs.split('\\n\\n')"
   ]
  },
  {
   "cell_type": "code",
   "execution_count": null,
   "metadata": {},
   "outputs": [],
   "source": [
    "test = df[df['verdict']=='NEI']"
   ]
  },
  {
   "cell_type": "code",
   "execution_count": null,
   "metadata": {},
   "outputs": [
    {
     "data": {
      "text/plain": [
       "['\" Chứng_kiến giây_phút công_viên Hòa_bình được đổi tên thành_công_viên Hồ_Chí_Minh , dấu_mốc mang tính biểu_tượng về tình_cảm hữu_nghị đặc_biệt Việt_Nam - Cuba , tự đáy lòng mình , chúng_tôi xin bày_tỏ sự xúc_động và biết_ơn chân_thành đối_với tình_cảm và tấm lòng của nhân_dân Cuba anh_em \" , Chủ_tịch Quốc_hội Vương_Đình_Huệ phát_biểu tại buổi lễ ',\n",
       " 'Bức tượng bán_thân làm bằng đồng , cao hai mét , có ghi dòng chữ \" Vị anh_hùng giải_phóng dân_tộc và Danh_nhân văn_hóa Việt_Nam \" , được đặt ở công_viên Montreau , thành_phố Montreuil , ngoại_ô thủ_đô Paris ',\n",
       " 'Tượng_đài Chủ_tịch Hồ_Chí_Minh cũng xuất_hiện ở một_số địa_danh khác của Nga như thành_phố Ulianovsk , quê_hương của Lenin , Saint_Petersburg hay Vladivostok ',\n",
       " 'Công_viên cũng gắn biển cung_cấp thông_tin về thân_thế , sự_nghiệp của Chủ_tịch Hồ_Chí_Minh ',\n",
       " 'Phía dưới tượng_đài có ghi dòng chữ \" Không có gì quý hơn độc_lập tự_do \" ',\n",
       " 'Đến tháng 9/2011 , Ủy_ban Di_sản Quốc_gia Singapore , đại_sứ_quán Việt_Nam tại Singapore và Bảo_tàng Hồ_Chí_Minh đã thống_nhất đặt thêm bức tượng đồng của Chủ_tịch Hồ_Chí_Minh bên cạnh bia tưởng_niệm ',\n",
       " 'Nơi đây đang lưu_giữ nhiều hình_ảnh , hiện_vật trong quá_trình hoạt_động cách_mạng của Chủ_tịch Hồ_Chí_Minh tại Lào ',\n",
       " 'Công_trình rộng khoảng 1,6 ha , hoàn_thành vào năm 2012 với nhiều hạng_mục , từ gian thờ được xây_dựng theo thiết_kế và bản_vẽ của Việt_Nam , nhà trưng_bày tư_liệu , hình_ảnh về Chủ_tịch Hồ_Chí_Minh xây theo kiến_trúc Lào ',\n",
       " 'Trên bức tường đằng sau bức tượng có ghi dòng chữ vàng \" Không có gì quý hơn độc_lập tự_do \" bằng tiếng Tây_Ban_Nha ',\n",
       " 'Tượng_đài Chủ_tịch Hồ_Chí_Minh trong Công_viên ASEAN , Manila , Philippines ',\n",
       " 'Khu lưu_niệm Chủ_tịch Hồ_Chí_Minh tại bản Xiềng_Vang , xã Xiềng_Mương , huyện Noong_Bốc , tỉnh Khamuane , Lào , được xây_dựng bên dòng sông Mekong ',\n",
       " 'Tượng_đài Chủ_tịch Hồ_Chí_Minh tại thành_phố Zalaegerszeg , cách thủ_đô Budapest , Hungary , khoảng 240 km về phía tây ',\n",
       " 'Gian thờ Chủ_tịch Hồ_Chí_Minh bên trong khu lưu_niệm tại bản Xiềng_Vang , tỉnh Khamuane , Lào ',\n",
       " 'Trong lễ khánh_thành tượng_đài , thị_trưởng thành_phố Montreuil_Jean Pierre_Brard lúc bấy_giờ nói rằng bức tượng là một_cách thể_hiện tình_cảm của người_dân thành_phố cũng như nhân_dân Pháp dành cho Chủ_tịch Hồ_Chí_Minh ',\n",
       " 'Tượng_đài Hồ_Chí_Minh ở thủ_đô Moskva , Nga , được đặt tại quảng_trường cùng tên tại quận Akademichesky ',\n",
       " 'Tượng_đài Hồ_Chí_Minh tại thủ_đô Havana , Cuba , được hoàn_thành vào dịp kỷ_niệm 113 năm ngày_sinh Chủ_tịch Hồ_Chí_Minh_19/5/2003 ',\n",
       " 'Theo ông , \" vòng_tròn là hình_tượng Mặt_Trời , thể_hiện mơ_ước về một Việt_Nam với tương_lai tươi_sáng \" và hình_ảnh hai cây tre bên dưới bắt_nguồn từ hiểu_biết của ông về loại cây đặc_trưng này của Việt_Nam ',\n",
       " 'Đó cũng là động_lực thôi_thúc tôi tìm_hiểu về lịch_sử Việt_Nam , về Chủ_tịch Hồ_Chí_Minh để làm_nên tượng_đài này \" , ông từng chia_sẻ ',\n",
       " 'Công_trình được khánh_thành vào ngày 18/5/1990 , nhân kỷ_niệm 100 năm ngày_sinh Chủ_tịch Hồ_Chí_Minh ',\n",
       " 'Hình_tượng Chủ_tịch Hồ_Chí_Minh được ông László thể_hiện một_cách dung_dị , gần_gũi , cùng câu nói nổi_tiếng \" Không có gì quý hơn độc_lập tự_do \" được khắc phía sau ',\n",
       " 'Chủ_tịch Quốc_hội Vương_Đình_Huệ dự lễ đổi tên công_viên Hòa_bình thành_công_viên Hồ_Chí_Minh tại thủ_đô Havana , Cuba chiều 20/4 ',\n",
       " 'Tháng 5/2008 , nhân_dịp kỷ_niệm 118 năm ngày_sinh Chủ_tịch Hồ_Chí_Minh và 35 năm thiết_lập quan_hệ ngoại_giao với Việt_Nam , chính_phủ Singapore đã khánh_thành bia tưởng_niệm tại khuôn_viên Bảo_tàng Văn_minh châu_Á ',\n",
       " 'Tượng_đài khắc_họa chân_dung Chủ_tịch Hồ_Chí_Minh đang mỉm cười , cùng hình_tượng chàng trai Việt_Nam ở tư_thế chuẩn_bị bật dậy ',\n",
       " 'Ông mô_tả Chủ_tịch Hồ_Chí_Minh là tấm gương đấu_tranh cho các dân_tộc bị áp_bức , nô_lệ trên thế_giới , đồng_thời khẳng_định đây sẽ là biểu_tượng cho tình đoàn_kết hữu_nghị giữa hai quốc_gia ',\n",
       " 'Cuba ngày 20/4 tổ_chức lễ đổi tên công_viên Hòa_bình thành_Công_viên Hồ_Chí_Minh , nhân_dịp Chủ_tịch Quốc_hội Vương_Đình_Huệ thăm chính_thức nước này ',\n",
       " 'Quan_chức ngoại_giao Việt_Nam và đại_diện chính_quyền thủ_đô Mexico_City , Mexico đặt hoa tại tượng_đài Chủ_tịch Hồ_Chí_Minh trong Công_viên Tự_do các Dân_tộc ngày 22/5/2015 ',\n",
       " 'Đây là tác_phẩm của nhà điêu_khắc Pedro Ramírez_Ponzanell , người nổi_tiếng với các bức tượng được đặt ở nhiều địa_điểm tại Mexico cũng như trên khắp thế_giới ',\n",
       " 'Mặt sau tấm bia tưởng_niệm bên cạnh bức tượng có khắc bài thơ \" Nghe tiếng giã gạo \" nằm trong tập thơ \" Nhật_ký trong tù \" của Chủ_tịch Hồ_Chí_Minh ',\n",
       " 'Trong khu lưu_niệm còn có nhà đón khách , nhà tưởng_niệm , khuôn_viên cây_cảnh , ao cá ',\n",
       " 'Bức tượng đã đoạt giải của Bộ Văn_hóa Hungary vào năm 1977 và trở_thành một phần văn_hóa của thành_phố Zalaegerszeg ',\n",
       " 'Bức tượng bán_thân được đúc bằng đồng , cao 0,55 m , ngang 0,36 m ',\n",
       " 'Tác_giả của tượng_đài là nhà điêu_khắc Vladimir Yefimovich_Tsigal và kiến_trúc_sư Roman Grigoryevich_Kananin ',\n",
       " '\" Đất_nước và nhân_dân Việt_Nam luôn nằm trong trái_tim của những người_dân Cuba chúng_tôi ',\n",
       " 'Tượng_đài Chủ_tịch Hồ_Chí_Minh tại Pháp được khánh_thành vào năm 2005 ',\n",
       " 'Trong ảnh là tượng_đài Chủ_tịch Hồ_Chí_Minh được đặt tại quảng_trường cùng tên ở thành_phố Ulianovsk ',\n",
       " 'Mặt trước văn_bia là thông_tin song_ngữ Anh - Việt giới_thiệu ngắn_gọn về tiểu_sử Chủ_tịch Hồ_Chí_Minh ',\n",
       " 'Hiện có khoảng 35 công_trình về Chủ_tịch Hồ_Chí_Minh tại 22 quốc_gia ở khắp các châu_lục ',\n",
       " 'Nhà điêu_khắc Tsigal đã đến thăm Việt_Nam năm 1985 để tìm_hiểu về Chủ_tịch Hồ_Chí_Minh cho dự_án mình ']"
      ]
     },
     "execution_count": 19,
     "metadata": {},
     "output_type": "execute_result"
    }
   ],
   "source": [
    "sample = test.sample()\n",
    "get_top_rate(sample.claim_tokenizer.values[0], sample.context_tokenizer.values[0])"
   ]
  },
  {
   "cell_type": "code",
   "execution_count": null,
   "metadata": {},
   "outputs": [
    {
     "data": {
      "text/plain": [
       "'Thơ ca không ca ngợi chủ tịch Hồ Chí Minh, thơ ca ghi lại sự vĩ đại của Người'"
      ]
     },
     "execution_count": 20,
     "metadata": {},
     "output_type": "execute_result"
    }
   ],
   "source": [
    "sample.claim.values[0]"
   ]
  },
  {
   "cell_type": "code",
   "execution_count": null,
   "metadata": {},
   "outputs": [
    {
     "data": {
      "text/plain": [
       "array([None], dtype=object)"
      ]
     },
     "execution_count": 21,
     "metadata": {},
     "output_type": "execute_result"
    }
   ],
   "source": [
    "sample.evidence.values"
   ]
  },
  {
   "cell_type": "code",
   "execution_count": null,
   "metadata": {},
   "outputs": [],
   "source": []
  }
 ],
 "metadata": {
  "kernelspec": {
   "display_name": ".venv",
   "language": "python",
   "name": "python3"
  },
  "language_info": {
   "codemirror_mode": {
    "name": "ipython",
    "version": 3
   },
   "file_extension": ".py",
   "mimetype": "text/x-python",
   "name": "python",
   "nbconvert_exporter": "python",
   "pygments_lexer": "ipython3",
   "version": "3.10.12"
  }
 },
 "nbformat": 4,
 "nbformat_minor": 2
}
